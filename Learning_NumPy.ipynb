{
 "cells": [
  {
   "cell_type": "code",
   "execution_count": 1,
   "metadata": {},
   "outputs": [],
   "source": [
    "import numpy as np"
   ]
  },
  {
   "cell_type": "code",
   "execution_count": 2,
   "metadata": {},
   "outputs": [
    {
     "data": {
      "text/plain": [
       "array([1, 2, 3, 4])"
      ]
     },
     "execution_count": 2,
     "metadata": {},
     "output_type": "execute_result"
    }
   ],
   "source": [
    "np.array([1,2,3,4])"
   ]
  },
  {
   "cell_type": "code",
   "execution_count": 3,
   "metadata": {},
   "outputs": [
    {
     "data": {
      "text/plain": [
       "array([1., 2., 3., 4.], dtype=float32)"
      ]
     },
     "execution_count": 3,
     "metadata": {},
     "output_type": "execute_result"
    }
   ],
   "source": [
    "np.array([1,2,3,4],dtype=np.float32)"
   ]
  },
  {
   "cell_type": "code",
   "execution_count": 4,
   "metadata": {},
   "outputs": [
    {
     "data": {
      "text/plain": [
       "array([1., 2., 3., 4.])"
      ]
     },
     "execution_count": 4,
     "metadata": {},
     "output_type": "execute_result"
    }
   ],
   "source": [
    "#Since NumPy arrays can contain only homogeneous datatypes, values will be upcast if the types do not match\n",
    "np.array([1,2.0,3,4])"
   ]
  },
  {
   "cell_type": "code",
   "execution_count": 5,
   "metadata": {},
   "outputs": [
    {
     "data": {
      "text/plain": [
       "array([[1, 2, 3, 4],\n",
       "       [5, 6, 7, 8]])"
      ]
     },
     "execution_count": 5,
     "metadata": {},
     "output_type": "execute_result"
    }
   ],
   "source": [
    "#2-dimensional array\n",
    "np.array([[1,2,3,4],[5,6,7,8]])"
   ]
  },
  {
   "cell_type": "code",
   "execution_count": 6,
   "metadata": {},
   "outputs": [
    {
     "data": {
      "text/plain": [
       "array([0., 0., 0., 0., 0.])"
      ]
     },
     "execution_count": 6,
     "metadata": {},
     "output_type": "execute_result"
    }
   ],
   "source": [
    "#Array of zeros (1-D array)\n",
    "np.zeros(5)"
   ]
  },
  {
   "cell_type": "code",
   "execution_count": 7,
   "metadata": {},
   "outputs": [
    {
     "data": {
      "text/plain": [
       "array([[0., 0., 0.],\n",
       "       [0., 0., 0.]])"
      ]
     },
     "execution_count": 7,
     "metadata": {},
     "output_type": "execute_result"
    }
   ],
   "source": [
    "#2-D array\n",
    "np.zeros((2,3))"
   ]
  },
  {
   "cell_type": "code",
   "execution_count": 8,
   "metadata": {},
   "outputs": [
    {
     "data": {
      "text/plain": [
       "array([1, 1, 1, 1, 1])"
      ]
     },
     "execution_count": 8,
     "metadata": {},
     "output_type": "execute_result"
    }
   ],
   "source": [
    "#Array of ones  (1-D array)\n",
    "np.ones(5,dtype=np.int32)"
   ]
  },
  {
   "cell_type": "code",
   "execution_count": 9,
   "metadata": {},
   "outputs": [
    {
     "data": {
      "text/plain": [
       "array([[1, 1],\n",
       "       [1, 1],\n",
       "       [1, 1],\n",
       "       [1, 1],\n",
       "       [1, 1]])"
      ]
     },
     "execution_count": 9,
     "metadata": {},
     "output_type": "execute_result"
    }
   ],
   "source": [
    "#Array of ones  (2-D array)\n",
    "np.ones((5,2),dtype=np.int32)"
   ]
  },
  {
   "cell_type": "code",
   "execution_count": 10,
   "metadata": {},
   "outputs": [
    {
     "data": {
      "text/plain": [
       "array([[0.59463359, 0.62338787, 0.38924155],\n",
       "       [0.04864018, 0.35837748, 0.13687389]])"
      ]
     },
     "execution_count": 10,
     "metadata": {},
     "output_type": "execute_result"
    }
   ],
   "source": [
    "# random \n",
    "np.random.rand(2,3)"
   ]
  },
  {
   "cell_type": "code",
   "execution_count": 11,
   "metadata": {},
   "outputs": [
    {
     "data": {
      "text/plain": [
       "array([[7, 7],\n",
       "       [7, 7]])"
      ]
     },
     "execution_count": 11,
     "metadata": {},
     "output_type": "execute_result"
    }
   ],
   "source": [
    "# An array of your choice\n",
    "np.full((2,2),7)"
   ]
  },
  {
   "cell_type": "code",
   "execution_count": 12,
   "metadata": {},
   "outputs": [
    {
     "data": {
      "text/plain": [
       "array([[1., 0., 0.],\n",
       "       [0., 1., 0.],\n",
       "       [0., 0., 1.]])"
      ]
     },
     "execution_count": 12,
     "metadata": {},
     "output_type": "execute_result"
    }
   ],
   "source": [
    "#An Identity matrix is a square matrix that has 1s along its main diagonal and 0s everywhere else. \n",
    "# Below is an Identity matrix of shape 3 x 3.\n",
    "\n",
    "# identity matrix\n",
    "np.eye(3)"
   ]
  },
  {
   "cell_type": "code",
   "execution_count": 13,
   "metadata": {},
   "outputs": [
    {
     "data": {
      "text/plain": [
       "array([[0., 1., 0.],\n",
       "       [0., 0., 1.],\n",
       "       [0., 0., 0.]])"
      ]
     },
     "execution_count": 13,
     "metadata": {},
     "output_type": "execute_result"
    }
   ],
   "source": [
    "# not an identity matrix\n",
    "np.eye(3,k=1)"
   ]
  },
  {
   "cell_type": "code",
   "execution_count": 14,
   "metadata": {},
   "outputs": [
    {
     "data": {
      "text/plain": [
       "array([[0., 0., 0.],\n",
       "       [0., 0., 0.],\n",
       "       [1., 0., 0.]])"
      ]
     },
     "execution_count": 14,
     "metadata": {},
     "output_type": "execute_result"
    }
   ],
   "source": [
    "np.eye(3,k=-2)"
   ]
  },
  {
   "cell_type": "code",
   "execution_count": 15,
   "metadata": {},
   "outputs": [
    {
     "data": {
      "text/plain": [
       "array([0, 1, 2, 3, 4])"
      ]
     },
     "execution_count": 15,
     "metadata": {},
     "output_type": "execute_result"
    }
   ],
   "source": [
    "#Evenly spaced ndarray\n",
    "np.arange(5)"
   ]
  },
  {
   "cell_type": "code",
   "execution_count": 16,
   "metadata": {},
   "outputs": [
    {
     "data": {
      "text/plain": [
       "array([2, 4, 6, 8])"
      ]
     },
     "execution_count": 16,
     "metadata": {},
     "output_type": "execute_result"
    }
   ],
   "source": [
    "#Alternate elements were printed because the step-size was defined as 2. \n",
    "#Notice that 10 was not printed as it was the last element.\n",
    "np.arange(2,10,2)"
   ]
  },
  {
   "cell_type": "code",
   "execution_count": 17,
   "metadata": {},
   "outputs": [
    {
     "data": {
      "text/plain": [
       "array([ 1,  4,  7, 10, 13, 16, 19])"
      ]
     },
     "execution_count": 17,
     "metadata": {},
     "output_type": "execute_result"
    }
   ],
   "source": [
    "np.arange(1,22,3)"
   ]
  },
  {
   "cell_type": "code",
   "execution_count": 18,
   "metadata": {},
   "outputs": [
    {
     "data": {
      "text/plain": [
       "array([0.  , 0.25, 0.5 , 0.75, 1.  ])"
      ]
     },
     "execution_count": 18,
     "metadata": {},
     "output_type": "execute_result"
    }
   ],
   "source": [
    "np.linspace(0,1,5)"
   ]
  },
  {
   "cell_type": "code",
   "execution_count": 19,
   "metadata": {},
   "outputs": [
    {
     "name": "stdout",
     "output_type": "stream",
     "text": [
      "Array : \n",
      " [[ 5 10 15]\n",
      " [20 25 20]]\n",
      "Dimensions : \n",
      " 2\n"
     ]
    }
   ],
   "source": [
    "# number of axis\n",
    "a = np.array([[5,10,15],[20,25,20]])\n",
    "print('Array :','\\n',a)\n",
    "print('Dimensions :','\\n',a.ndim)"
   ]
  },
  {
   "cell_type": "code",
   "execution_count": 20,
   "metadata": {},
   "outputs": [
    {
     "name": "stdout",
     "output_type": "stream",
     "text": [
      "Array : \n",
      " [[1 2 3]\n",
      " [4 5 6]]\n",
      "Shape : (2, 3)\n",
      "Rows =  2\n",
      "Columns =  3\n"
     ]
    }
   ],
   "source": [
    "#shape of array\n",
    "a = np.array([[1,2,3],[4,5,6]])\n",
    "print('Array :','\\n',a)\n",
    "print('Shape :',a.shape)\n",
    "print('Rows = ',a.shape[0])\n",
    "print('Columns = ',a.shape[1])"
   ]
  },
  {
   "cell_type": "code",
   "execution_count": 21,
   "metadata": {},
   "outputs": [
    {
     "name": "stdout",
     "output_type": "stream",
     "text": [
      "Size of array : 6\n",
      "Manual determination of size of array : 6\n"
     ]
    }
   ],
   "source": [
    "# size of array\n",
    "a = np.array([[5,10,15],[20,25,20]])\n",
    "print('Size of array :',a.size)\n",
    "print('Manual determination of size of array :',a.shape[0]*a.shape[1])"
   ]
  },
  {
   "cell_type": "code",
   "execution_count": 22,
   "metadata": {},
   "outputs": [
    {
     "data": {
      "text/plain": [
       "array([[ 3,  6],\n",
       "       [ 9, 12]])"
      ]
     },
     "execution_count": 22,
     "metadata": {},
     "output_type": "execute_result"
    }
   ],
   "source": [
    "# reshape\n",
    "a = np.array([3,6,9,12])\n",
    "np.reshape(a,(2,2))"
   ]
  },
  {
   "cell_type": "code",
   "execution_count": 23,
   "metadata": {},
   "outputs": [
    {
     "name": "stdout",
     "output_type": "stream",
     "text": [
      "Three rows : \n",
      " [[ 3  6]\n",
      " [ 9 12]\n",
      " [18 24]]\n",
      "Three columns : \n",
      " [[ 3  6  9]\n",
      " [12 18 24]]\n"
     ]
    }
   ],
   "source": [
    "# While reshaping, if you are unsure about the shape of any of the axis, just input -1. \n",
    "# NumPy automatically calculates the shape when it sees a -1:\n",
    "a = np.array([3,6,9,12,18,24])\n",
    "print('Three rows :','\\n',np.reshape(a,(3,-1)))\n",
    "print('Three columns :','\\n',np.reshape(a,(-1,3)))"
   ]
  },
  {
   "cell_type": "code",
   "execution_count": 24,
   "metadata": {},
   "outputs": [
    {
     "name": "stdout",
     "output_type": "stream",
     "text": [
      "Original shape : (2, 2)\n",
      "Array : \n",
      " [[1. 1.]\n",
      " [1. 1.]]\n",
      "Shape after flatten : (4,)\n",
      "Array : \n",
      " [1. 1. 1. 1.]\n",
      "Shape after ravel : (4,)\n",
      "Array : \n",
      " [1. 1. 1. 1.]\n"
     ]
    }
   ],
   "source": [
    "a = np.ones((2,2))\n",
    "b = a.flatten()\n",
    "c = a.ravel()\n",
    "print('Original shape :', a.shape)\n",
    "print('Array :','\\n', a)\n",
    "print('Shape after flatten :',b.shape)\n",
    "print('Array :','\\n', b)\n",
    "print('Shape after ravel :',c.shape)\n",
    "print('Array :','\\n', c)"
   ]
  },
  {
   "cell_type": "markdown",
   "metadata": {},
   "source": [
    "But an important difference between flatten() and ravel() is that the former returns a copy of the original array while the latter returns a reference to the original array. This means any changes made to the array returned from ravel() will also be reflected in the original array while this will not be the case with flatten()."
   ]
  },
  {
   "cell_type": "code",
   "execution_count": 25,
   "metadata": {},
   "outputs": [
    {
     "name": "stdout",
     "output_type": "stream",
     "text": [
      "[[1. 1.]\n",
      " [1. 1.]]\n"
     ]
    }
   ],
   "source": [
    "# The change made was not reflected in the original array.\n",
    "b[0] = 0\n",
    "print(a)"
   ]
  },
  {
   "cell_type": "code",
   "execution_count": 26,
   "metadata": {},
   "outputs": [
    {
     "name": "stdout",
     "output_type": "stream",
     "text": [
      "[[0. 1.]\n",
      " [1. 1.]]\n"
     ]
    }
   ],
   "source": [
    "# But here, the changed value is also reflected in the original ndarray.\n",
    "c[0] = 0\n",
    "print(a)"
   ]
  },
  {
   "cell_type": "code",
   "execution_count": 27,
   "metadata": {},
   "outputs": [
    {
     "name": "stdout",
     "output_type": "stream",
     "text": [
      "Original \n",
      " Shape (2, 3) \n",
      " [[1 2 3]\n",
      " [4 5 6]]\n",
      "Expand along columns: \n",
      " Shape (3, 2) \n",
      " [[1 4]\n",
      " [2 5]\n",
      " [3 6]]\n"
     ]
    }
   ],
   "source": [
    "# transpose() method: It takes the input array and swaps the rows with the column values, \n",
    "# and the column values with the values of the rows\n",
    "a = np.array([[1,2,3],\n",
    "[4,5,6]])\n",
    "b = np.transpose(a)\n",
    "print('Original','\\n','Shape',a.shape,'\\n',a)\n",
    "print('Expand along columns:','\\n','Shape',b.shape,'\\n',b)"
   ]
  },
  {
   "cell_type": "code",
   "execution_count": 28,
   "metadata": {},
   "outputs": [
    {
     "name": "stdout",
     "output_type": "stream",
     "text": [
      "Original: \n",
      " Shape (3,) \n",
      " [1 2 3]\n",
      "Expand along columns: \n",
      " Shape (1, 3) \n",
      " [[1 2 3]]\n",
      "Expand along rows: \n",
      " Shape (3, 1) \n",
      " [[1]\n",
      " [2]\n",
      " [3]]\n"
     ]
    }
   ],
   "source": [
    "# Expanding a NumPy array\n",
    "# expand dimensions\n",
    "a = np.array([1,2,3])\n",
    "b = np.expand_dims(a,axis=0)\n",
    "c = np.expand_dims(a,axis=1)\n",
    "print('Original:','\\n','Shape',a.shape,'\\n',a)\n",
    "print('Expand along columns:','\\n','Shape',b.shape,'\\n',b)\n",
    "print('Expand along rows:','\\n','Shape',c.shape,'\\n',c)"
   ]
  },
  {
   "cell_type": "code",
   "execution_count": 29,
   "metadata": {},
   "outputs": [
    {
     "name": "stdout",
     "output_type": "stream",
     "text": [
      "Original \n",
      " Shape (1, 2, 3) \n",
      " [[[1 2 3]\n",
      "  [4 5 6]]]\n",
      "Squeeze array: \n",
      " Shape (2, 3) \n",
      " [[1 2 3]\n",
      " [4 5 6]]\n"
     ]
    }
   ],
   "source": [
    "# squeeze a NumPy array\n",
    "a = np.array([[[1,2,3],\n",
    "[4,5,6]]])\n",
    "b = np.squeeze(a, axis=0)\n",
    "print('Original','\\n','Shape',a.shape,'\\n',a)\n",
    "print('Squeeze array:','\\n','Shape',b.shape,'\\n',b)"
   ]
  },
  {
   "cell_type": "code",
   "execution_count": 30,
   "metadata": {},
   "outputs": [
    {
     "ename": "ValueError",
     "evalue": "cannot select an axis to squeeze out which has size not equal to one",
     "output_type": "error",
     "traceback": [
      "\u001b[1;31m---------------------------------------------------------------------------\u001b[0m",
      "\u001b[1;31mValueError\u001b[0m                                Traceback (most recent call last)",
      "\u001b[1;32m<ipython-input-30-c4a3bf7028a5>\u001b[0m in \u001b[0;36m<module>\u001b[1;34m\u001b[0m\n\u001b[1;32m----> 1\u001b[1;33m \u001b[0mc\u001b[0m \u001b[1;33m=\u001b[0m \u001b[0mnp\u001b[0m\u001b[1;33m.\u001b[0m\u001b[0msqueeze\u001b[0m\u001b[1;33m(\u001b[0m\u001b[0ma\u001b[0m\u001b[1;33m,\u001b[0m \u001b[0maxis\u001b[0m\u001b[1;33m=\u001b[0m\u001b[1;36m1\u001b[0m\u001b[1;33m)\u001b[0m\u001b[1;33m\u001b[0m\u001b[1;33m\u001b[0m\u001b[0m\n\u001b[0m",
      "\u001b[1;32mC:\\ProgramData\\Anaconda3\\lib\\site-packages\\numpy\\core\\fromnumeric.py\u001b[0m in \u001b[0;36msqueeze\u001b[1;34m(a, axis)\u001b[0m\n\u001b[0;32m   1290\u001b[0m         \u001b[1;32mreturn\u001b[0m \u001b[0msqueeze\u001b[0m\u001b[1;33m(\u001b[0m\u001b[1;33m)\u001b[0m\u001b[1;33m\u001b[0m\u001b[1;33m\u001b[0m\u001b[0m\n\u001b[0;32m   1291\u001b[0m     \u001b[1;32melse\u001b[0m\u001b[1;33m:\u001b[0m\u001b[1;33m\u001b[0m\u001b[1;33m\u001b[0m\u001b[0m\n\u001b[1;32m-> 1292\u001b[1;33m         \u001b[1;32mreturn\u001b[0m \u001b[0msqueeze\u001b[0m\u001b[1;33m(\u001b[0m\u001b[0maxis\u001b[0m\u001b[1;33m=\u001b[0m\u001b[0maxis\u001b[0m\u001b[1;33m)\u001b[0m\u001b[1;33m\u001b[0m\u001b[1;33m\u001b[0m\u001b[0m\n\u001b[0m\u001b[0;32m   1293\u001b[0m \u001b[1;33m\u001b[0m\u001b[0m\n\u001b[0;32m   1294\u001b[0m \u001b[1;32mdef\u001b[0m \u001b[0mdiagonal\u001b[0m\u001b[1;33m(\u001b[0m\u001b[0ma\u001b[0m\u001b[1;33m,\u001b[0m \u001b[0moffset\u001b[0m\u001b[1;33m=\u001b[0m\u001b[1;36m0\u001b[0m\u001b[1;33m,\u001b[0m \u001b[0maxis1\u001b[0m\u001b[1;33m=\u001b[0m\u001b[1;36m0\u001b[0m\u001b[1;33m,\u001b[0m \u001b[0maxis2\u001b[0m\u001b[1;33m=\u001b[0m\u001b[1;36m1\u001b[0m\u001b[1;33m)\u001b[0m\u001b[1;33m:\u001b[0m\u001b[1;33m\u001b[0m\u001b[1;33m\u001b[0m\u001b[0m\n",
      "\u001b[1;31mValueError\u001b[0m: cannot select an axis to squeeze out which has size not equal to one"
     ]
    }
   ],
   "source": [
    "c = np.squeeze(a, axis=1)"
   ]
  },
  {
   "cell_type": "code",
   "execution_count": 31,
   "metadata": {},
   "outputs": [
    {
     "name": "stdout",
     "output_type": "stream",
     "text": [
      "[2 4]\n",
      "[2 4 6]\n"
     ]
    }
   ],
   "source": [
    "a = np.array([1,2,3,4,5,6])\n",
    "print(a[1:5:2])\n",
    "print(a[1:6:2])"
   ]
  },
  {
   "cell_type": "code",
   "execution_count": 32,
   "metadata": {},
   "outputs": [
    {
     "name": "stdout",
     "output_type": "stream",
     "text": [
      "[1 3 5]\n",
      "[2 4 6]\n",
      "[2 3 4 5 6]\n"
     ]
    }
   ],
   "source": [
    "a = np.array([1,2,3,4,5,6])\n",
    "print(a[:6:2])\n",
    "print(a[1::2])\n",
    "print(a[1:6:])"
   ]
  },
  {
   "cell_type": "code",
   "execution_count": 33,
   "metadata": {},
   "outputs": [
    {
     "name": "stdout",
     "output_type": "stream",
     "text": [
      "1\n",
      "6\n",
      "4\n"
     ]
    }
   ],
   "source": [
    "a = np.array([[1,2,3],\n",
    "[4,5,6]])\n",
    "print(a[0,0])\n",
    "print(a[1,2])\n",
    "print(a[1,0])"
   ]
  },
  {
   "cell_type": "code",
   "execution_count": 34,
   "metadata": {},
   "outputs": [
    {
     "name": "stdout",
     "output_type": "stream",
     "text": [
      "First row values : \n",
      " [[1 2 3]]\n",
      "Alternate values from first row: \n",
      " [[1 3]]\n",
      "Second column values : \n",
      " [[2]\n",
      " [5]]\n",
      "Arbitrary values : \n",
      " [[2 3]]\n"
     ]
    }
   ],
   "source": [
    "a = np.array([[1,2,3],[4,5,6]])\n",
    "# print first row values\n",
    "print('First row values :','\\n',a[0:1,:])\n",
    "# with step-size for columns\n",
    "print('Alternate values from first row:','\\n',a[0:1,::2])\n",
    "# \n",
    "print('Second column values :','\\n',a[:,1::2])\n",
    "print('Arbitrary values :','\\n',a[0:1,1:3])"
   ]
  },
  {
   "cell_type": "code",
   "execution_count": 35,
   "metadata": {},
   "outputs": [
    {
     "name": "stdout",
     "output_type": "stream",
     "text": [
      "[[[ 1  2]\n",
      "  [ 3  4]\n",
      "  [ 5  6]]\n",
      "\n",
      " [[ 7  8]\n",
      "  [ 9 10]\n",
      "  [11 12]]\n",
      "\n",
      " [[13 14]\n",
      "  [15 16]\n",
      "  [17 18]]]\n"
     ]
    }
   ],
   "source": [
    "# 3-D NumPy arrays\n",
    "a = np.array([[[1,2],[3,4],[5,6]],# first axis array\n",
    "[[7,8],[9,10],[11,12]],# second axis array\n",
    "[[13,14],[15,16],[17,18]]])# third axis array\n",
    "# 3-D array\n",
    "print(a)"
   ]
  },
  {
   "cell_type": "code",
   "execution_count": 36,
   "metadata": {},
   "outputs": [
    {
     "name": "stdout",
     "output_type": "stream",
     "text": [
      "First array, first row, first column value : \n",
      " 1\n",
      "First array last column : \n",
      " [2 4 6]\n",
      "First two rows for second and third arrays : \n",
      " [[[ 7  8]\n",
      "  [ 9 10]]\n",
      "\n",
      " [[13 14]\n",
      "  [15 16]]]\n"
     ]
    }
   ],
   "source": [
    "# Extract value\n",
    "print('First array, first row, first column value :','\\n',a[0,0,0])\n",
    "print('First array last column :','\\n',a[0,:,1])\n",
    "print('First two rows for second and third arrays :','\\n',a[1:,0:2,0:2])"
   ]
  },
  {
   "cell_type": "code",
   "execution_count": 37,
   "metadata": {},
   "outputs": [
    {
     "name": "stdout",
     "output_type": "stream",
     "text": [
      "Printing as a single array : \n",
      " [ 7  8  9 10 13 14 15 16]\n"
     ]
    }
   ],
   "source": [
    "# If in case you wanted the values as a single dimension array, you can always use the flatten() method to do the job!\n",
    "print('Printing as a single array :','\\n',a[1:,0:2,0:2].flatten())"
   ]
  },
  {
   "cell_type": "code",
   "execution_count": 38,
   "metadata": {},
   "outputs": [
    {
     "name": "stdout",
     "output_type": "stream",
     "text": [
      "[ 5 10]\n"
     ]
    }
   ],
   "source": [
    "# Negative slicing of NumPy arrays\n",
    "a = np.array([[1,2,3,4,5],\n",
    "[6,7,8,9,10]])\n",
    "print(a[:,-1])"
   ]
  },
  {
   "cell_type": "code",
   "execution_count": 39,
   "metadata": {},
   "outputs": [
    {
     "name": "stdout",
     "output_type": "stream",
     "text": [
      "[[ 5  4]\n",
      " [10  9]]\n"
     ]
    }
   ],
   "source": [
    "print(a[:,-1:-3:-1])"
   ]
  },
  {
   "cell_type": "code",
   "execution_count": 40,
   "metadata": {},
   "outputs": [
    {
     "name": "stdout",
     "output_type": "stream",
     "text": [
      "Original array : \n",
      " [[ 1  2  3  4  5]\n",
      " [ 6  7  8  9 10]]\n",
      "Reversed array : \n",
      " [[10  9  8  7  6]\n",
      " [ 5  4  3  2  1]]\n"
     ]
    }
   ],
   "source": [
    "# An interesting use of negative slicing is to reverse the original array.\n",
    "a = np.array([[1,2,3,4,5],\n",
    "[6,7,8,9,10]])\n",
    "print('Original array :','\\n',a)\n",
    "print('Reversed array :','\\n',a[::-1,::-1])"
   ]
  },
  {
   "cell_type": "code",
   "execution_count": 41,
   "metadata": {},
   "outputs": [
    {
     "name": "stdout",
     "output_type": "stream",
     "text": [
      "Original array : \n",
      " [[ 1  2  3  4  5]\n",
      " [ 6  7  8  9 10]]\n",
      "Reversed array vertically : \n",
      " [[ 5  4  3  2  1]\n",
      " [10  9  8  7  6]]\n",
      "Reversed array horizontally : \n",
      " [[ 6  7  8  9 10]\n",
      " [ 1  2  3  4  5]]\n"
     ]
    }
   ],
   "source": [
    "# You can also use the flip() method to reverse an ndarray.\n",
    "a = np.array([[1,2,3,4,5],\n",
    "[6,7,8,9,10]])\n",
    "print('Original array :','\\n',a)\n",
    "print('Reversed array vertically :','\\n',np.flip(a,axis=1))\n",
    "print('Reversed array horizontally :','\\n',np.flip(a,axis=0))"
   ]
  },
  {
   "cell_type": "code",
   "execution_count": 42,
   "metadata": {},
   "outputs": [
    {
     "name": "stdout",
     "output_type": "stream",
     "text": [
      "Array 1 : \n",
      " [0 1 2 3 4]\n",
      "Array 2 : \n",
      " [5 6 7 8 9]\n",
      "Vertical stacking : \n",
      " [[0 1 2 3 4]\n",
      " [5 6 7 8 9]]\n",
      "Horizontal stacking : \n",
      " [0 1 2 3 4 5 6 7 8 9]\n"
     ]
    }
   ],
   "source": [
    "a = np.arange(0,5)\n",
    "b = np.arange(5,10)\n",
    "print('Array 1 :','\\n',a)\n",
    "print('Array 2 :','\\n',b)\n",
    "print('Vertical stacking :','\\n',np.vstack((a,b)))\n",
    "print('Horizontal stacking :','\\n',np.hstack((a,b)))"
   ]
  },
  {
   "cell_type": "code",
   "execution_count": 43,
   "metadata": {},
   "outputs": [
    {
     "name": "stdout",
     "output_type": "stream",
     "text": [
      "Array 1 : \n",
      " [[1, 2], [3, 4]]\n",
      "Array 2 : \n",
      " [[5, 6], [7, 8]]\n",
      "Dstack : \n",
      " [[[1 5]\n",
      "  [2 6]]\n",
      "\n",
      " [[3 7]\n",
      "  [4 8]]]\n",
      "(2, 2, 2)\n"
     ]
    }
   ],
   "source": [
    "a = [[1,2],[3,4]]\n",
    "b = [[5,6],[7,8]]\n",
    "c = np.dstack((a,b))\n",
    "print('Array 1 :','\\n',a)\n",
    "print('Array 2 :','\\n',b)\n",
    "print('Dstack :','\\n',c)\n",
    "print(c.shape)"
   ]
  },
  {
   "cell_type": "code",
   "execution_count": 44,
   "metadata": {},
   "outputs": [
    {
     "name": "stdout",
     "output_type": "stream",
     "text": [
      "Array 1 : \n",
      " [[0 1 2 3 4]]\n",
      "Array 2 : \n",
      " [[5 6 7 8 9]]\n",
      "Concatenate along rows : \n",
      " [[0 1 2 3 4]\n",
      " [5 6 7 8 9]]\n",
      "Concatenate along columns : \n",
      " [[0 1 2 3 4 5 6 7 8 9]]\n"
     ]
    }
   ],
   "source": [
    "# Concatenating ndarrays\n",
    "a = np.arange(0,5).reshape(1,5)\n",
    "b = np.arange(5,10).reshape(1,5)\n",
    "print('Array 1 :','\\n',a)\n",
    "print('Array 2 :','\\n',b)\n",
    "print('Concatenate along rows :','\\n',np.concatenate((a,b),axis=0))\n",
    "print('Concatenate along columns :','\\n',np.concatenate((a,b),axis=1))"
   ]
  },
  {
   "cell_type": "code",
   "execution_count": 45,
   "metadata": {},
   "outputs": [
    {
     "name": "stdout",
     "output_type": "stream",
     "text": [
      "Array 1 : \n",
      " [[0 1 2 3 4]]\n",
      "Array 2 : \n",
      " [[5 6 7 8 9]]\n",
      "Concatenate along rows : \n",
      " [[0 1 2 3 4]\n",
      " [5 6 7 8 9]]\n",
      "Concatenate along columns : \n",
      " [[0 1 2 3 4 5 6 7 8 9]]\n"
     ]
    }
   ],
   "source": [
    "a = np.arange(0,5).reshape(1,5)\n",
    "b = np.arange(5,10).reshape(1,5)\n",
    "print('Array 1 :','\\n',a)\n",
    "print('Array 2 :','\\n',b)\n",
    "print('Concatenate along rows :','\\n',np.concatenate((a,b),axis=0))\n",
    "print('Concatenate along columns :','\\n',np.concatenate((a,b),axis=1))"
   ]
  },
  {
   "cell_type": "code",
   "execution_count": 46,
   "metadata": {},
   "outputs": [
    {
     "data": {
      "text/plain": [
       "array([[1, 2],\n",
       "       [3, 4],\n",
       "       [5, 6]])"
      ]
     },
     "execution_count": 46,
     "metadata": {},
     "output_type": "execute_result"
    }
   ],
   "source": [
    "# append values to ndarray\n",
    "a = np.array([[1,2],\n",
    "             [3,4]])\n",
    "np.append(a,[[5,6]], axis=0)"
   ]
  },
  {
   "cell_type": "code",
   "execution_count": 47,
   "metadata": {},
   "outputs": [
    {
     "name": "stdout",
     "output_type": "stream",
     "text": [
      "Adding two different size arrays : \n",
      " [[12 14 16 18 20]\n",
      " [12 14 16 18 20]]\n",
      "Multiplying an ndarray and a number : [20 24 28 32 36]\n"
     ]
    }
   ],
   "source": [
    "a = np.arange(10,20,2)\n",
    "b = np.array([[2],[2]])\n",
    "print('Adding two different size arrays :','\\n',a+b)\n",
    "print('Multiplying an ndarray and a number :',a*2)"
   ]
  },
  {
   "cell_type": "code",
   "execution_count": 48,
   "metadata": {},
   "outputs": [
    {
     "data": {
      "text/plain": [
       "array([[3., 3., 3.],\n",
       "       [3., 3., 3.],\n",
       "       [3., 3., 3.]])"
      ]
     },
     "execution_count": 48,
     "metadata": {},
     "output_type": "execute_result"
    }
   ],
   "source": [
    "a = np.ones((3,3))\n",
    "b = np.array([2])\n",
    "a+b"
   ]
  },
  {
   "cell_type": "code",
   "execution_count": null,
   "metadata": {},
   "outputs": [],
   "source": []
  }
 ],
 "metadata": {
  "kernelspec": {
   "display_name": "Python 3",
   "language": "python",
   "name": "python3"
  },
  "language_info": {
   "codemirror_mode": {
    "name": "ipython",
    "version": 3
   },
   "file_extension": ".py",
   "mimetype": "text/x-python",
   "name": "python",
   "nbconvert_exporter": "python",
   "pygments_lexer": "ipython3",
   "version": "3.7.9"
  }
 },
 "nbformat": 4,
 "nbformat_minor": 4
}
