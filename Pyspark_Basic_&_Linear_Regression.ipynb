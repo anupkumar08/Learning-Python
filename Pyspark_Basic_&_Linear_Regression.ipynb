{
  "nbformat": 4,
  "nbformat_minor": 0,
  "metadata": {
    "colab": {
      "name": "Pyspark Basic & Linear Regression.ipynb",
      "provenance": [],
      "collapsed_sections": []
    },
    "kernelspec": {
      "name": "python3",
      "display_name": "Python 3"
    },
    "language_info": {
      "name": "python"
    }
  },
  "cells": [
    {
      "cell_type": "code",
      "metadata": {
        "colab": {
          "base_uri": "https://localhost:8080/"
        },
        "id": "Vbx2Cl8wjA4e",
        "outputId": "b9aee35f-caeb-4036-f288-e42c4749af8a"
      },
      "source": [
        "!pip install pyspark"
      ],
      "execution_count": 1,
      "outputs": [
        {
          "output_type": "stream",
          "name": "stdout",
          "text": [
            "Requirement already satisfied: pyspark in /usr/local/lib/python3.7/dist-packages (3.1.2)\n",
            "Requirement already satisfied: py4j==0.10.9 in /usr/local/lib/python3.7/dist-packages (from pyspark) (0.10.9)\n"
          ]
        }
      ]
    },
    {
      "cell_type": "code",
      "metadata": {
        "id": "OzgFowIpivFc"
      },
      "source": [
        "from pyspark.sql import SparkSession\n",
        "spark= SparkSession.builder.appName('Customers').getOrCreate()"
      ],
      "execution_count": 2,
      "outputs": []
    },
    {
      "cell_type": "code",
      "metadata": {
        "colab": {
          "base_uri": "https://localhost:8080/",
          "height": 216
        },
        "id": "BRVTnT4SnDn8",
        "outputId": "6aaf9046-6f63-4f92-c633-198f74a2416d"
      },
      "source": [
        "spark"
      ],
      "execution_count": 3,
      "outputs": [
        {
          "output_type": "execute_result",
          "data": {
            "text/html": [
              "\n",
              "            <div>\n",
              "                <p><b>SparkSession - in-memory</b></p>\n",
              "                \n",
              "        <div>\n",
              "            <p><b>SparkContext</b></p>\n",
              "\n",
              "            <p><a href=\"http://bb5e8e2be9ab:4040\">Spark UI</a></p>\n",
              "\n",
              "            <dl>\n",
              "              <dt>Version</dt>\n",
              "                <dd><code>v3.1.2</code></dd>\n",
              "              <dt>Master</dt>\n",
              "                <dd><code>local[*]</code></dd>\n",
              "              <dt>AppName</dt>\n",
              "                <dd><code>Customers</code></dd>\n",
              "            </dl>\n",
              "        </div>\n",
              "        \n",
              "            </div>\n",
              "        "
            ],
            "text/plain": [
              "<pyspark.sql.session.SparkSession at 0x7f14dac69910>"
            ]
          },
          "metadata": {},
          "execution_count": 3
        }
      ]
    },
    {
      "cell_type": "code",
      "metadata": {
        "id": "xwJl_mmpjWw0"
      },
      "source": [
        "from pyspark.ml.regression import LinearRegression"
      ],
      "execution_count": 5,
      "outputs": []
    },
    {
      "cell_type": "code",
      "metadata": {
        "id": "OaiJoVXsjZxU"
      },
      "source": [
        "dataset=spark.read.csv(\"/content/Ecommerce_Customers.csv\",inferSchema=True,header=True)"
      ],
      "execution_count": 6,
      "outputs": []
    },
    {
      "cell_type": "code",
      "metadata": {
        "colab": {
          "base_uri": "https://localhost:8080/"
        },
        "id": "wf8An4Q1nQ68",
        "outputId": "0af706c2-1c25-49c0-8cff-88f34cca17c7"
      },
      "source": [
        "type(dataset)"
      ],
      "execution_count": 8,
      "outputs": [
        {
          "output_type": "execute_result",
          "data": {
            "text/plain": [
              "pyspark.sql.dataframe.DataFrame"
            ]
          },
          "metadata": {},
          "execution_count": 8
        }
      ]
    },
    {
      "cell_type": "code",
      "metadata": {
        "colab": {
          "base_uri": "https://localhost:8080/"
        },
        "id": "4NpnRaKfnxdb",
        "outputId": "8909e90b-e80b-4349-c1e2-b0701186a333"
      },
      "source": [
        "dataset.dtypes"
      ],
      "execution_count": 9,
      "outputs": [
        {
          "output_type": "execute_result",
          "data": {
            "text/plain": [
              "[('Email', 'string'),\n",
              " ('Address', 'string'),\n",
              " ('Avg Session Length', 'double'),\n",
              " ('Time on App', 'double'),\n",
              " ('Time on Website', 'double'),\n",
              " ('Length of Membership', 'double'),\n",
              " ('Yearly Amount Spent', 'double')]"
            ]
          },
          "metadata": {},
          "execution_count": 9
        }
      ]
    },
    {
      "cell_type": "code",
      "metadata": {
        "colab": {
          "base_uri": "https://localhost:8080/"
        },
        "id": "eL0tZmUon6jM",
        "outputId": "81f1cbd5-271c-4ba0-fc54-8c072b397f1b"
      },
      "source": [
        "dataset.select(['Email','Address']).show()"
      ],
      "execution_count": 10,
      "outputs": [
        {
          "output_type": "stream",
          "name": "stdout",
          "text": [
            "+--------------------+--------------------+\n",
            "|               Email|             Address|\n",
            "+--------------------+--------------------+\n",
            "|mstephenson@ferna...|835 Frank TunnelW...|\n",
            "|   hduke@hotmail.com|4547 Archer Commo...|\n",
            "|    pallen@yahoo.com|24645 Valerie Uni...|\n",
            "|riverarebecca@gma...|1414 David Throug...|\n",
            "|mstephens@davidso...|14023 Rodriguez P...|\n",
            "|alvareznancy@luca...|645 Martha Park A...|\n",
            "|katherine20@yahoo...|68388 Reyes Light...|\n",
            "|  awatkins@yahoo.com|Unit 6538 Box 898...|\n",
            "|vchurch@walter-ma...|860 Lee KeyWest D...|\n",
            "|    bonnie69@lin.biz|PSC 2734, Box 525...|\n",
            "|andrew06@peterson...|26104 Alexander G...|\n",
            "|ryanwerner@freema...|Unit 2413 Box 034...|\n",
            "|   knelson@gmail.com|6705 Miller Orcha...|\n",
            "|wrightpeter@yahoo...|05302 Dunlap Ferr...|\n",
            "|taylormason@gmail...|7773 Powell Sprin...|\n",
            "| jstark@anderson.com|49558 Ramirez Roa...|\n",
            "| wjennings@gmail.com|6362 Wilson Mount...|\n",
            "|rebecca45@hale-ba...|8982 Burton RowWi...|\n",
            "|alejandro75@hotma...|64475 Andre Club ...|\n",
            "|samuel46@love-wes...|544 Alexander Hei...|\n",
            "+--------------------+--------------------+\n",
            "only showing top 20 rows\n",
            "\n"
          ]
        }
      ]
    },
    {
      "cell_type": "code",
      "metadata": {
        "colab": {
          "base_uri": "https://localhost:8080/"
        },
        "id": "zVsbTwxtjsor",
        "outputId": "d405f12b-c037-4f34-8675-5381bfa9a8a6"
      },
      "source": [
        "dataset"
      ],
      "execution_count": 11,
      "outputs": [
        {
          "output_type": "execute_result",
          "data": {
            "text/plain": [
              "DataFrame[Email: string, Address: string, Avg Session Length: double, Time on App: double, Time on Website: double, Length of Membership: double, Yearly Amount Spent: double]"
            ]
          },
          "metadata": {},
          "execution_count": 11
        }
      ]
    },
    {
      "cell_type": "code",
      "metadata": {
        "colab": {
          "base_uri": "https://localhost:8080/"
        },
        "id": "AYYbDyg0jxJE",
        "outputId": "e1a4da61-ce55-4be7-a232-f393fe52832d"
      },
      "source": [
        "dataset.show()"
      ],
      "execution_count": 12,
      "outputs": [
        {
          "output_type": "stream",
          "name": "stdout",
          "text": [
            "+--------------------+--------------------+------------------+-----------+---------------+--------------------+-------------------+\n",
            "|               Email|             Address|Avg Session Length|Time on App|Time on Website|Length of Membership|Yearly Amount Spent|\n",
            "+--------------------+--------------------+------------------+-----------+---------------+--------------------+-------------------+\n",
            "|mstephenson@ferna...|835 Frank TunnelW...|       34.49726773|12.65565115|    39.57766802|         4.082620633|         587.951054|\n",
            "|   hduke@hotmail.com|4547 Archer Commo...|       31.92627203|11.10946073|    37.26895887|         2.664034182|        392.2049334|\n",
            "|    pallen@yahoo.com|24645 Valerie Uni...|       33.00091476|11.33027806|    37.11059744|         4.104543202|        487.5475049|\n",
            "|riverarebecca@gma...|1414 David Throug...|       34.30555663|13.71751367|    36.72128268|         3.120178783|         581.852344|\n",
            "|mstephens@davidso...|14023 Rodriguez P...|       33.33067252|12.79518855|     37.5366533|         4.446308318|         599.406092|\n",
            "|alvareznancy@luca...|645 Martha Park A...|       33.87103788|12.02692534|    34.47687763|         5.493507201|        637.1024479|\n",
            "|katherine20@yahoo...|68388 Reyes Light...|        32.0215955|11.36634831|    36.68377615|         4.685017247|        521.5721748|\n",
            "|  awatkins@yahoo.com|Unit 6538 Box 898...|       32.73914294|12.35195897|    37.37335886|         4.434273435|        549.9041461|\n",
            "|vchurch@walter-ma...|860 Lee KeyWest D...|        33.9877729|13.38623528|    37.53449734|         3.273433578|         570.200409|\n",
            "|    bonnie69@lin.biz|PSC 2734, Box 525...|       31.93654862|11.81412829|    37.14516822|         3.202806072|        427.1993849|\n",
            "|andrew06@peterson...|26104 Alexander G...|       33.99257277|13.33897545|    37.22580613|         2.482607771|        492.6060127|\n",
            "|ryanwerner@freema...|Unit 2413 Box 034...|       33.87936082|  11.584783|    37.08792607|         3.713209203|        522.3374046|\n",
            "|   knelson@gmail.com|6705 Miller Orcha...|       29.53242897| 10.9612984|    37.42021558|         4.046423164|        408.6403511|\n",
            "|wrightpeter@yahoo...|05302 Dunlap Ferr...|       33.19033404|12.95922609|     36.1446667|         3.918541839|        573.4158673|\n",
            "|taylormason@gmail...|7773 Powell Sprin...|       32.38797585|13.14872569|    36.61995708|         2.494543647|        470.4527333|\n",
            "| jstark@anderson.com|49558 Ramirez Roa...|       30.73772037|12.63660605|    36.21376309|         3.357846842|        461.7807422|\n",
            "| wjennings@gmail.com|6362 Wilson Mount...|        32.1253869|11.73386169|    34.89409275|         3.136132716|        457.8476959|\n",
            "|rebecca45@hale-ba...|8982 Burton RowWi...|       32.33889932|12.01319469|    38.38513659|         2.420806161|        407.7045475|\n",
            "|alejandro75@hotma...|64475 Andre Club ...|       32.18781205|14.71538754|    38.24411459|         1.516575581|        452.3156755|\n",
            "|samuel46@love-wes...|544 Alexander Hei...|       32.61785606|13.98959256|     37.1905038|          4.06454855|        605.0610388|\n",
            "+--------------------+--------------------+------------------+-----------+---------------+--------------------+-------------------+\n",
            "only showing top 20 rows\n",
            "\n"
          ]
        }
      ]
    },
    {
      "cell_type": "code",
      "metadata": {
        "colab": {
          "base_uri": "https://localhost:8080/"
        },
        "id": "Ya90T2Ssj0Az",
        "outputId": "9e448c70-0fc9-4a2e-a6c5-62cec2dc2fc6"
      },
      "source": [
        "dataset.head(10)"
      ],
      "execution_count": 13,
      "outputs": [
        {
          "output_type": "execute_result",
          "data": {
            "text/plain": [
              "[Row(Email='mstephenson@fernandez.com', Address='835 Frank TunnelWrightmouth, MI 82180-9605', Avg Session Length=34.49726773, Time on App=12.65565115, Time on Website=39.57766802, Length of Membership=4.082620633, Yearly Amount Spent=587.951054),\n",
              " Row(Email='hduke@hotmail.com', Address='4547 Archer CommonDiazchester, CA 06566-8576', Avg Session Length=31.92627203, Time on App=11.10946073, Time on Website=37.26895887, Length of Membership=2.664034182, Yearly Amount Spent=392.2049334),\n",
              " Row(Email='pallen@yahoo.com', Address='24645 Valerie Unions Suite 582Cobbborough, DC 99414-7564', Avg Session Length=33.00091476, Time on App=11.33027806, Time on Website=37.11059744, Length of Membership=4.104543202, Yearly Amount Spent=487.5475049),\n",
              " Row(Email='riverarebecca@gmail.com', Address='1414 David ThroughwayPort Jason, OH 22070-1220', Avg Session Length=34.30555663, Time on App=13.71751367, Time on Website=36.72128268, Length of Membership=3.120178783, Yearly Amount Spent=581.852344),\n",
              " Row(Email='mstephens@davidson-herman.com', Address='14023 Rodriguez PassagePort Jacobville, PR 37242-1057', Avg Session Length=33.33067252, Time on App=12.79518855, Time on Website=37.5366533, Length of Membership=4.446308318, Yearly Amount Spent=599.406092),\n",
              " Row(Email='alvareznancy@lucas.biz', Address='645 Martha Park Apt. 611Jeffreychester, MN 67218-7250', Avg Session Length=33.87103788, Time on App=12.02692534, Time on Website=34.47687763, Length of Membership=5.493507201, Yearly Amount Spent=637.1024479),\n",
              " Row(Email='katherine20@yahoo.com', Address='68388 Reyes Lights Suite 692Josephbury, WV 92213-0247', Avg Session Length=32.0215955, Time on App=11.36634831, Time on Website=36.68377615, Length of Membership=4.685017247, Yearly Amount Spent=521.5721748),\n",
              " Row(Email='awatkins@yahoo.com', Address='Unit 6538 Box 8980DPO AP 09026-4941', Avg Session Length=32.73914294, Time on App=12.35195897, Time on Website=37.37335886, Length of Membership=4.434273435, Yearly Amount Spent=549.9041461),\n",
              " Row(Email='vchurch@walter-martinez.com', Address='860 Lee KeyWest Debra, SD 97450-0495', Avg Session Length=33.9877729, Time on App=13.38623528, Time on Website=37.53449734, Length of Membership=3.273433578, Yearly Amount Spent=570.200409),\n",
              " Row(Email='bonnie69@lin.biz', Address='PSC 2734, Box 5255APO AA 98456-7482', Avg Session Length=31.93654862, Time on App=11.81412829, Time on Website=37.14516822, Length of Membership=3.202806072, Yearly Amount Spent=427.1993849)]"
            ]
          },
          "metadata": {},
          "execution_count": 13
        }
      ]
    },
    {
      "cell_type": "code",
      "metadata": {
        "colab": {
          "base_uri": "https://localhost:8080/"
        },
        "id": "PGqOvinJj_Ws",
        "outputId": "e81b657d-171b-47fb-cf32-47d4f1948b21"
      },
      "source": [
        "dataset.printSchema()"
      ],
      "execution_count": 14,
      "outputs": [
        {
          "output_type": "stream",
          "name": "stdout",
          "text": [
            "root\n",
            " |-- Email: string (nullable = true)\n",
            " |-- Address: string (nullable = true)\n",
            " |-- Avg Session Length: double (nullable = true)\n",
            " |-- Time on App: double (nullable = true)\n",
            " |-- Time on Website: double (nullable = true)\n",
            " |-- Length of Membership: double (nullable = true)\n",
            " |-- Yearly Amount Spent: double (nullable = true)\n",
            "\n"
          ]
        }
      ]
    },
    {
      "cell_type": "code",
      "metadata": {
        "id": "m_QHQ26hkA9M"
      },
      "source": [
        "from pyspark.ml.linalg import Vectors\n",
        "from pyspark.ml.feature import VectorAssembler"
      ],
      "execution_count": 15,
      "outputs": []
    },
    {
      "cell_type": "code",
      "metadata": {
        "id": "W5b-ibgbkKRj"
      },
      "source": [
        "featureassembler=VectorAssembler(inputCols=[\"Avg Session Length\",\"Time on App\",\"Time on Website\",\"Length of Membership\"],outputCol=\"Independent Features\")"
      ],
      "execution_count": 16,
      "outputs": []
    },
    {
      "cell_type": "code",
      "metadata": {
        "id": "pcyNuUGWkQjj"
      },
      "source": [
        "output=featureassembler.transform(dataset)"
      ],
      "execution_count": 17,
      "outputs": []
    },
    {
      "cell_type": "code",
      "metadata": {
        "colab": {
          "base_uri": "https://localhost:8080/"
        },
        "id": "3mpohzGhkWVj",
        "outputId": "eed3e855-7faa-4f97-b467-073f8129c2d4"
      },
      "source": [
        "output.show()"
      ],
      "execution_count": 18,
      "outputs": [
        {
          "output_type": "stream",
          "name": "stdout",
          "text": [
            "+--------------------+--------------------+------------------+-----------+---------------+--------------------+-------------------+--------------------+\n",
            "|               Email|             Address|Avg Session Length|Time on App|Time on Website|Length of Membership|Yearly Amount Spent|Independent Features|\n",
            "+--------------------+--------------------+------------------+-----------+---------------+--------------------+-------------------+--------------------+\n",
            "|mstephenson@ferna...|835 Frank TunnelW...|       34.49726773|12.65565115|    39.57766802|         4.082620633|         587.951054|[34.49726773,12.6...|\n",
            "|   hduke@hotmail.com|4547 Archer Commo...|       31.92627203|11.10946073|    37.26895887|         2.664034182|        392.2049334|[31.92627203,11.1...|\n",
            "|    pallen@yahoo.com|24645 Valerie Uni...|       33.00091476|11.33027806|    37.11059744|         4.104543202|        487.5475049|[33.00091476,11.3...|\n",
            "|riverarebecca@gma...|1414 David Throug...|       34.30555663|13.71751367|    36.72128268|         3.120178783|         581.852344|[34.30555663,13.7...|\n",
            "|mstephens@davidso...|14023 Rodriguez P...|       33.33067252|12.79518855|     37.5366533|         4.446308318|         599.406092|[33.33067252,12.7...|\n",
            "|alvareznancy@luca...|645 Martha Park A...|       33.87103788|12.02692534|    34.47687763|         5.493507201|        637.1024479|[33.87103788,12.0...|\n",
            "|katherine20@yahoo...|68388 Reyes Light...|        32.0215955|11.36634831|    36.68377615|         4.685017247|        521.5721748|[32.0215955,11.36...|\n",
            "|  awatkins@yahoo.com|Unit 6538 Box 898...|       32.73914294|12.35195897|    37.37335886|         4.434273435|        549.9041461|[32.73914294,12.3...|\n",
            "|vchurch@walter-ma...|860 Lee KeyWest D...|        33.9877729|13.38623528|    37.53449734|         3.273433578|         570.200409|[33.9877729,13.38...|\n",
            "|    bonnie69@lin.biz|PSC 2734, Box 525...|       31.93654862|11.81412829|    37.14516822|         3.202806072|        427.1993849|[31.93654862,11.8...|\n",
            "|andrew06@peterson...|26104 Alexander G...|       33.99257277|13.33897545|    37.22580613|         2.482607771|        492.6060127|[33.99257277,13.3...|\n",
            "|ryanwerner@freema...|Unit 2413 Box 034...|       33.87936082|  11.584783|    37.08792607|         3.713209203|        522.3374046|[33.87936082,11.5...|\n",
            "|   knelson@gmail.com|6705 Miller Orcha...|       29.53242897| 10.9612984|    37.42021558|         4.046423164|        408.6403511|[29.53242897,10.9...|\n",
            "|wrightpeter@yahoo...|05302 Dunlap Ferr...|       33.19033404|12.95922609|     36.1446667|         3.918541839|        573.4158673|[33.19033404,12.9...|\n",
            "|taylormason@gmail...|7773 Powell Sprin...|       32.38797585|13.14872569|    36.61995708|         2.494543647|        470.4527333|[32.38797585,13.1...|\n",
            "| jstark@anderson.com|49558 Ramirez Roa...|       30.73772037|12.63660605|    36.21376309|         3.357846842|        461.7807422|[30.73772037,12.6...|\n",
            "| wjennings@gmail.com|6362 Wilson Mount...|        32.1253869|11.73386169|    34.89409275|         3.136132716|        457.8476959|[32.1253869,11.73...|\n",
            "|rebecca45@hale-ba...|8982 Burton RowWi...|       32.33889932|12.01319469|    38.38513659|         2.420806161|        407.7045475|[32.33889932,12.0...|\n",
            "|alejandro75@hotma...|64475 Andre Club ...|       32.18781205|14.71538754|    38.24411459|         1.516575581|        452.3156755|[32.18781205,14.7...|\n",
            "|samuel46@love-wes...|544 Alexander Hei...|       32.61785606|13.98959256|     37.1905038|          4.06454855|        605.0610388|[32.61785606,13.9...|\n",
            "+--------------------+--------------------+------------------+-----------+---------------+--------------------+-------------------+--------------------+\n",
            "only showing top 20 rows\n",
            "\n"
          ]
        }
      ]
    },
    {
      "cell_type": "code",
      "metadata": {
        "colab": {
          "base_uri": "https://localhost:8080/"
        },
        "id": "mYqzh4ASkYB7",
        "outputId": "46637498-1901-40af-96d2-5b0aa0a36be7"
      },
      "source": [
        "output.select(\"Independent Features\").show()"
      ],
      "execution_count": 19,
      "outputs": [
        {
          "output_type": "stream",
          "name": "stdout",
          "text": [
            "+--------------------+\n",
            "|Independent Features|\n",
            "+--------------------+\n",
            "|[34.49726773,12.6...|\n",
            "|[31.92627203,11.1...|\n",
            "|[33.00091476,11.3...|\n",
            "|[34.30555663,13.7...|\n",
            "|[33.33067252,12.7...|\n",
            "|[33.87103788,12.0...|\n",
            "|[32.0215955,11.36...|\n",
            "|[32.73914294,12.3...|\n",
            "|[33.9877729,13.38...|\n",
            "|[31.93654862,11.8...|\n",
            "|[33.99257277,13.3...|\n",
            "|[33.87936082,11.5...|\n",
            "|[29.53242897,10.9...|\n",
            "|[33.19033404,12.9...|\n",
            "|[32.38797585,13.1...|\n",
            "|[30.73772037,12.6...|\n",
            "|[32.1253869,11.73...|\n",
            "|[32.33889932,12.0...|\n",
            "|[32.18781205,14.7...|\n",
            "|[32.61785606,13.9...|\n",
            "+--------------------+\n",
            "only showing top 20 rows\n",
            "\n"
          ]
        }
      ]
    },
    {
      "cell_type": "code",
      "metadata": {
        "colab": {
          "base_uri": "https://localhost:8080/"
        },
        "id": "NAKpyS7Gkbl0",
        "outputId": "57f50582-b374-4be6-ea8b-dbb47a427495"
      },
      "source": [
        "output.columns"
      ],
      "execution_count": 20,
      "outputs": [
        {
          "output_type": "execute_result",
          "data": {
            "text/plain": [
              "['Email',\n",
              " 'Address',\n",
              " 'Avg Session Length',\n",
              " 'Time on App',\n",
              " 'Time on Website',\n",
              " 'Length of Membership',\n",
              " 'Yearly Amount Spent',\n",
              " 'Independent Features']"
            ]
          },
          "metadata": {},
          "execution_count": 20
        }
      ]
    },
    {
      "cell_type": "code",
      "metadata": {
        "id": "7uhPo7KRkhOW"
      },
      "source": [
        "finalized_data=output.select(\"Independent Features\",\"Yearly Amount Spent\")"
      ],
      "execution_count": 21,
      "outputs": []
    },
    {
      "cell_type": "code",
      "metadata": {
        "colab": {
          "base_uri": "https://localhost:8080/"
        },
        "id": "6pdP-Ojvkp8-",
        "outputId": "5d78247d-9cac-4c27-ba58-f6e962695399"
      },
      "source": [
        "finalized_data.show()"
      ],
      "execution_count": 22,
      "outputs": [
        {
          "output_type": "stream",
          "name": "stdout",
          "text": [
            "+--------------------+-------------------+\n",
            "|Independent Features|Yearly Amount Spent|\n",
            "+--------------------+-------------------+\n",
            "|[34.49726773,12.6...|         587.951054|\n",
            "|[31.92627203,11.1...|        392.2049334|\n",
            "|[33.00091476,11.3...|        487.5475049|\n",
            "|[34.30555663,13.7...|         581.852344|\n",
            "|[33.33067252,12.7...|         599.406092|\n",
            "|[33.87103788,12.0...|        637.1024479|\n",
            "|[32.0215955,11.36...|        521.5721748|\n",
            "|[32.73914294,12.3...|        549.9041461|\n",
            "|[33.9877729,13.38...|         570.200409|\n",
            "|[31.93654862,11.8...|        427.1993849|\n",
            "|[33.99257277,13.3...|        492.6060127|\n",
            "|[33.87936082,11.5...|        522.3374046|\n",
            "|[29.53242897,10.9...|        408.6403511|\n",
            "|[33.19033404,12.9...|        573.4158673|\n",
            "|[32.38797585,13.1...|        470.4527333|\n",
            "|[30.73772037,12.6...|        461.7807422|\n",
            "|[32.1253869,11.73...|        457.8476959|\n",
            "|[32.33889932,12.0...|        407.7045475|\n",
            "|[32.18781205,14.7...|        452.3156755|\n",
            "|[32.61785606,13.9...|        605.0610388|\n",
            "+--------------------+-------------------+\n",
            "only showing top 20 rows\n",
            "\n"
          ]
        }
      ]
    },
    {
      "cell_type": "code",
      "metadata": {
        "id": "cHmZBrRTkuBW"
      },
      "source": [
        "train_data,test_data=finalized_data.randomSplit([0.75,0.25])"
      ],
      "execution_count": 23,
      "outputs": []
    },
    {
      "cell_type": "code",
      "metadata": {
        "colab": {
          "base_uri": "https://localhost:8080/"
        },
        "id": "KOs8Js9qk2Vs",
        "outputId": "dc62bb9d-692d-4a17-ae44-5fd321b9b838"
      },
      "source": [
        "train_data.count()"
      ],
      "execution_count": 24,
      "outputs": [
        {
          "output_type": "execute_result",
          "data": {
            "text/plain": [
              "371"
            ]
          },
          "metadata": {},
          "execution_count": 24
        }
      ]
    },
    {
      "cell_type": "code",
      "metadata": {
        "colab": {
          "base_uri": "https://localhost:8080/"
        },
        "id": "otvfa_eok9kW",
        "outputId": "b35a809b-045e-4688-faab-b05f4ce60968"
      },
      "source": [
        "test_data.count()"
      ],
      "execution_count": 25,
      "outputs": [
        {
          "output_type": "execute_result",
          "data": {
            "text/plain": [
              "129"
            ]
          },
          "metadata": {},
          "execution_count": 25
        }
      ]
    },
    {
      "cell_type": "code",
      "metadata": {
        "id": "1a3lHr8LlBCU"
      },
      "source": [
        "regressor=LinearRegression(featuresCol='Independent Features', labelCol='Yearly Amount Spent')\n",
        "regressor=regressor.fit(train_data)"
      ],
      "execution_count": 26,
      "outputs": []
    },
    {
      "cell_type": "code",
      "metadata": {
        "colab": {
          "base_uri": "https://localhost:8080/"
        },
        "id": "aZ8dBDTRlyse",
        "outputId": "dffc331a-40ac-428a-d862-ff44425a6e82"
      },
      "source": [
        "regressor.coefficients"
      ],
      "execution_count": 27,
      "outputs": [
        {
          "output_type": "execute_result",
          "data": {
            "text/plain": [
              "DenseVector([25.7461, 38.7417, 0.6197, 61.8607])"
            ]
          },
          "metadata": {},
          "execution_count": 27
        }
      ]
    },
    {
      "cell_type": "code",
      "metadata": {
        "colab": {
          "base_uri": "https://localhost:8080/"
        },
        "id": "PHKbUM53l34V",
        "outputId": "3b744cd5-a816-4311-ec10-b3e54c6250ff"
      },
      "source": [
        "regressor.intercept"
      ],
      "execution_count": 28,
      "outputs": [
        {
          "output_type": "execute_result",
          "data": {
            "text/plain": [
              "-1060.3177002417435"
            ]
          },
          "metadata": {},
          "execution_count": 28
        }
      ]
    },
    {
      "cell_type": "code",
      "metadata": {
        "id": "Xvty4OI8l8SV"
      },
      "source": [
        "pred_results=regressor.evaluate(test_data)"
      ],
      "execution_count": 29,
      "outputs": []
    },
    {
      "cell_type": "code",
      "metadata": {
        "colab": {
          "base_uri": "https://localhost:8080/"
        },
        "id": "PMUjuxZLl_Ut",
        "outputId": "2938cc7e-fa40-46ae-9de0-52d6ce3b9373"
      },
      "source": [
        "pred_results.predictions.show(40)"
      ],
      "execution_count": 30,
      "outputs": [
        {
          "output_type": "stream",
          "name": "stdout",
          "text": [
            "+--------------------+-------------------+------------------+\n",
            "|Independent Features|Yearly Amount Spent|        prediction|\n",
            "+--------------------+-------------------+------------------+\n",
            "|[30.73772037,12.6...|        461.7807422| 450.7820313354307|\n",
            "|[30.97167564,11.7...|        494.6386098| 487.7478527969274|\n",
            "|[31.06132516,12.3...|        487.5554581|493.52645424555953|\n",
            "|[31.06621816,11.7...|        448.9332932|461.73355783107104|\n",
            "|[31.12397435,12.3...|        486.9470538| 508.2472622160801|\n",
            "|[31.12809005,13.2...|        557.2526867| 564.8989607807507|\n",
            "|[31.1695068,13.97...|        427.3565308| 416.5622690271264|\n",
            "|[31.28344748,12.7...|        591.7810894| 569.7292310946609|\n",
            "|[31.3123496,11.68...|         463.591418| 444.8841309095378|\n",
            "|[31.38958548,10.9...|        410.0696111|  409.482350316935|\n",
            "|[31.57020083,13.3...|        545.9454921| 563.5906634180401|\n",
            "|[31.6005122,12.22...|        479.1728515| 460.8528601619648|\n",
            "|[31.60983957,12.7...|        444.5455497|426.89591906209057|\n",
            "|[31.62536013,13.1...|        376.3369008| 380.2428684489839|\n",
            "|[31.6739155,12.32...|        475.7250679| 502.1463897936337|\n",
            "|[31.72420252,13.1...|        503.3878873|509.29468290470277|\n",
            "|[31.73663569,10.7...|        496.9334463| 494.4691440932404|\n",
            "|[31.81861657,11.2...|        446.4186734| 448.2676900870197|\n",
            "|[31.86483255,13.4...|        439.8912805| 449.8090620297878|\n",
            "|[31.93654862,11.8...|        427.1993849|440.76923509934136|\n",
            "|[31.95630056,12.8...|        547.1259317| 565.1221877993498|\n",
            "|[31.97648006,10.7...|         330.594446| 324.6782285180991|\n",
            "|[32.01807401,10.0...|        357.7831107| 340.0715885085715|\n",
            "|[32.03054972,12.6...|        594.2744834| 589.4118194928258|\n",
            "|[32.06377462,10.7...|        378.3309069| 389.7227212508187|\n",
            "|[32.07894758,12.7...|        357.8637186| 351.7244799748105|\n",
            "|[32.09610899,10.8...|        375.3984554| 374.7877162231441|\n",
            "|[32.11511907,11.9...|        350.0582002|341.93967506234753|\n",
            "|[32.17550124,13.3...|        588.7126055| 577.5140167273655|\n",
            "|[32.19249883,13.3...|         616.660286|  620.019300582682|\n",
            "|[32.20465465,12.4...|         478.584286| 478.5699557810224|\n",
            "|[32.22729914,13.7...|        613.5993234| 621.9200532049815|\n",
            "|[32.24635,11.3055...|        327.3779526| 336.5272685471018|\n",
            "|[32.25997327,14.1...|        571.2160048| 573.4501095539897|\n",
            "|[32.27184828,13.4...|          511.97986| 507.1811966944365|\n",
            "|[32.2917561,12.19...|        494.5518611| 499.6979308744485|\n",
            "|[32.34279623,11.4...|        486.0834255|476.13430175671715|\n",
            "|[32.38103459,12.4...|        532.7248055|  546.469223234534|\n",
            "|[32.40173183,12.0...|        506.5473071|505.60822907734405|\n",
            "|[32.4071483,13.80...|        662.9610878| 643.9841202307359|\n",
            "+--------------------+-------------------+------------------+\n",
            "only showing top 40 rows\n",
            "\n"
          ]
        }
      ]
    },
    {
      "cell_type": "code",
      "metadata": {
        "colab": {
          "base_uri": "https://localhost:8080/"
        },
        "id": "Kfij5FOTmCSW",
        "outputId": "ecc8c3c5-5824-4b1e-8df2-92eade04ec84"
      },
      "source": [
        "pred_results.meanAbsoluteError,pred_results.meanSquaredError"
      ],
      "execution_count": 31,
      "outputs": [
        {
          "output_type": "execute_result",
          "data": {
            "text/plain": [
              "(8.678809773032123, 114.7037925117276)"
            ]
          },
          "metadata": {},
          "execution_count": 31
        }
      ]
    }
  ]
}