{
 "cells": [
  {
   "cell_type": "code",
   "execution_count": 1,
   "metadata": {},
   "outputs": [],
   "source": [
    "import cv2\n",
    "import numpy as np\n",
    "import os\n",
    "from matplotlib import pyplot as plt"
   ]
  },
  {
   "cell_type": "code",
   "execution_count": 5,
   "metadata": {},
   "outputs": [],
   "source": [
    "source_directory = 'F:/CoLab/train'\n",
    "target_directory = 'F:/CoLab/Test_output/'"
   ]
  },
  {
   "cell_type": "code",
   "execution_count": 6,
   "metadata": {},
   "outputs": [
    {
     "ename": "KeyboardInterrupt",
     "evalue": "",
     "output_type": "error",
     "traceback": [
      "\u001b[1;31m---------------------------------------------------------------------------\u001b[0m",
      "\u001b[1;31mKeyboardInterrupt\u001b[0m                         Traceback (most recent call last)",
      "\u001b[1;32m<ipython-input-6-e6accc6d30f4>\u001b[0m in \u001b[0;36m<module>\u001b[1;34m\u001b[0m\n\u001b[0;32m     11\u001b[0m     \u001b[0mdst\u001b[0m \u001b[1;33m=\u001b[0m \u001b[0mcv2\u001b[0m\u001b[1;33m.\u001b[0m\u001b[0mresize\u001b[0m\u001b[1;33m(\u001b[0m\u001b[0mimg\u001b[0m\u001b[1;33m,\u001b[0m\u001b[1;32mNone\u001b[0m\u001b[1;33m,\u001b[0m\u001b[0mfx\u001b[0m\u001b[1;33m=\u001b[0m\u001b[1;36m2\u001b[0m\u001b[1;33m,\u001b[0m \u001b[0mfy\u001b[0m\u001b[1;33m=\u001b[0m\u001b[1;36m2\u001b[0m\u001b[1;33m,\u001b[0m \u001b[0minterpolation\u001b[0m \u001b[1;33m=\u001b[0m \u001b[0mcv2\u001b[0m\u001b[1;33m.\u001b[0m\u001b[0mINTER_CUBIC\u001b[0m\u001b[1;33m)\u001b[0m\u001b[1;33m\u001b[0m\u001b[1;33m\u001b[0m\u001b[0m\n\u001b[0;32m     12\u001b[0m     \u001b[1;31m#target_image =(os.path.join(target_directory, file_name))\u001b[0m\u001b[1;33m\u001b[0m\u001b[1;33m\u001b[0m\u001b[1;33m\u001b[0m\u001b[0m\n\u001b[1;32m---> 13\u001b[1;33m     \u001b[0mcv2\u001b[0m\u001b[1;33m.\u001b[0m\u001b[0mimwrite\u001b[0m\u001b[1;33m(\u001b[0m\u001b[0mtarget_directory\u001b[0m\u001b[1;33m+\u001b[0m\u001b[0mfile_name_without_extension\u001b[0m\u001b[1;33m+\u001b[0m\u001b[1;34m'_'\u001b[0m\u001b[1;33m+\u001b[0m\u001b[0mstr\u001b[0m\u001b[1;33m(\u001b[0m\u001b[0mi\u001b[0m\u001b[1;33m)\u001b[0m\u001b[1;33m+\u001b[0m\u001b[1;34m'.jpg'\u001b[0m\u001b[1;33m,\u001b[0m \u001b[0mdst\u001b[0m\u001b[1;33m)\u001b[0m\u001b[1;33m\u001b[0m\u001b[1;33m\u001b[0m\u001b[0m\n\u001b[0m\u001b[0;32m     14\u001b[0m     \u001b[0mi\u001b[0m\u001b[1;33m=\u001b[0m\u001b[0mi\u001b[0m\u001b[1;33m+\u001b[0m\u001b[1;36m1\u001b[0m\u001b[1;33m\u001b[0m\u001b[1;33m\u001b[0m\u001b[0m\n\u001b[0;32m     15\u001b[0m \u001b[1;33m\u001b[0m\u001b[0m\n",
      "\u001b[1;31mKeyboardInterrupt\u001b[0m: "
     ]
    }
   ],
   "source": [
    "for file_name in os.listdir(source_directory):\n",
    "    source_image =(os.path.join(source_directory, file_name))\n",
    "    \n",
    "    index_of_dot = file_name.index('.')\n",
    "    file_name_without_extension = file_name[:index_of_dot]\n",
    "\n",
    "    img = cv2.imread(source_image,0)\n",
    "    rows,cols = img.shape\n",
    "    i = 1\n",
    "    # Transform 1 - Scaling - Resizing image\n",
    "    dst = cv2.resize(img,None,fx=2, fy=2, interpolation = cv2.INTER_CUBIC)\n",
    "    #target_image =(os.path.join(target_directory, file_name))\n",
    "    cv2.imwrite(target_directory+file_name_without_extension+'_'+str(i)+'.jpg', dst)\n",
    "    i=i+1\n",
    "\n",
    "    # Transform 2 - Translation - Shift of (100,50)\n",
    "    M = np.float32([[1,0,100],[0,1,50]])\n",
    "    dst = cv2.warpAffine(img,M,(cols,rows))\n",
    "    cv2.imwrite(target_directory+file_name_without_extension+'_'+str(i)+'.jpg', dst)\n",
    "    i=i+1\n",
    "\n",
    "    # Transform 3 - Rotation - Rotate 90\n",
    "    M = cv2.getRotationMatrix2D((cols/2,rows/2),90,1)\n",
    "    dst = cv2.warpAffine(img,M,(cols,rows))\n",
    "    cv2.imwrite(target_directory+file_name_without_extension+'_'+str(i)+'.jpg', dst)\n",
    "    i=i+1\n",
    "\n",
    "    # Transform 4 - Rotate 180 / Invert\n",
    "    M = cv2.getRotationMatrix2D((cols/2,rows/2),180,1)\n",
    "    dst = cv2.warpAffine(img,M,(cols,rows))\n",
    "    cv2.imwrite(target_directory+file_name_without_extension+'_'+str(i)+'.jpg', dst)\n",
    "    i=i+1\n",
    "\n",
    "    # Transform 5 - Erosion\n",
    "    kernel = np.ones((5,5),np.uint8)\n",
    "    dst = cv2.erode(img,kernel,iterations = 1)\n",
    "    cv2.imwrite(target_directory+file_name_without_extension+'_'+str(i)+'.jpg', dst)\n",
    "    i=i+1\n",
    "\n",
    "    # Transform 6 - Dilation\n",
    "    kernel = np.ones((5,5),np.uint8)\n",
    "    dst = cv2.dilate(img,kernel,iterations = 1)\n",
    "    cv2.imwrite(target_directory+file_name_without_extension+'_'+str(i)+'.jpg', dst)\n",
    "    i=i+1\n",
    "\n",
    "    # Transform 7 - Opening - Erosion followed by dilation\n",
    "    kernel = np.ones((5,5),np.uint8)\n",
    "    dst = cv2.morphologyEx(img, cv2.MORPH_OPEN, kernel)\n",
    "    cv2.imwrite(target_directory+file_name_without_extension+'_'+str(i)+'.jpg', dst)\n",
    "    i=i+1\n",
    "\n",
    "    # Transform 8 - Closing - Dilation followed by Erosion\n",
    "    kernel = np.ones((5,5),np.uint8)\n",
    "    dst = cv2.morphologyEx(img, cv2.MORPH_CLOSE, kernel)\n",
    "    cv2.imwrite(target_directory+file_name_without_extension+'_'+str(i)+'.jpg', dst)\n",
    "    i=i+1\n",
    "\n",
    "    # Transform 9 - Affine Transformation\n",
    "    pts1 = np.float32([[50,50],[200,50],[50,200]])\n",
    "    pts2 = np.float32([[10,100],[200,50],[100,250]])\n",
    "    M = cv2.getAffineTransform(pts1,pts2)\n",
    "    dst = cv2.warpAffine(img,M,(cols,rows))\n",
    "    cv2.imwrite(target_directory+file_name_without_extension+'_'+str(i)+'.jpg', dst)\n",
    "    i=i+1\n",
    "\n",
    "    # Transform 10 - Perspective Transformation\n",
    "    pts1 = np.float32([[56,65],[368,52],[28,387],[389,390]])\n",
    "    pts2 = np.float32([[0,0],[300,0],[0,300],[300,300]])\n",
    "    M = cv2.getPerspectiveTransform(pts1,pts2)\n",
    "    dst = cv2.warpPerspective(img,M,(300,300))\n",
    "    cv2.imwrite(target_directory+file_name_without_extension+'_'+str(i)+'.jpg', dst)\n",
    "    i=i+1\n",
    "\n",
    "    # Transformation 11 - Smoothing - Blurring Image using Low-pass filter\n",
    "\n",
    "    dst = cv2.blur(img,(5,5))\n",
    "    cv2.imwrite(target_directory+file_name_without_extension+'_'+str(i)+'.jpg', dst)\n",
    "    i=i+1\n",
    "\n",
    "    \n",
    "    # Transformation 12 -  Change Color\n",
    "\n",
    "    dst = cv2.cvtColor(img, cv2.COLOR_GRAY2RGB)\n",
    "    cv2.imwrite(target_directory+file_name_without_extension+'_'+str(i)+'.jpg', dst)\n",
    "    i=i+1\n",
    "\n",
    "    # Transformation 13 - Image Filtering - 2D Convolution\n",
    "\n",
    "    kernel = np.ones((5,5),np.float32)/25\n",
    "    dst = cv2.filter2D(img,-1,kernel)\n",
    "    cv2.imwrite(target_directory+file_name_without_extension+'_'+str(i)+'.jpg', dst)\n",
    "    i=i+1\n"
   ]
  },
  {
   "cell_type": "code",
   "execution_count": null,
   "metadata": {},
   "outputs": [],
   "source": []
  }
 ],
 "metadata": {
  "kernelspec": {
   "display_name": "Python 3",
   "language": "python",
   "name": "python3"
  },
  "language_info": {
   "codemirror_mode": {
    "name": "ipython",
    "version": 3
   },
   "file_extension": ".py",
   "mimetype": "text/x-python",
   "name": "python",
   "nbconvert_exporter": "python",
   "pygments_lexer": "ipython3",
   "version": "3.7.7"
  }
 },
 "nbformat": 4,
 "nbformat_minor": 4
}
