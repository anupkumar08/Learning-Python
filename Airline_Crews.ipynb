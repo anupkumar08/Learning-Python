{
 "cells": [
  {
   "cell_type": "code",
   "execution_count": 5,
   "metadata": {},
   "outputs": [
    {
     "name": "stdout",
     "output_type": "stream",
     "text": [
      "5 7\n",
      "1 2 2\n",
      "2 5 5\n",
      "1 3 6\n",
      "3 4 2\n",
      "4 5 1\n",
      "1 -1 -1 -1 3\n"
     ]
    }
   ],
   "source": [
    "# python3\n",
    "\n",
    "#Programming assignment 1.1:\n",
    "#Implementation Maximum Matching:\n",
    "\n",
    "#@author: Anup Kumar Mishra\n",
    "\n",
    "import copy\n",
    "import queue\n",
    "\n",
    "class MaxMatching:\n",
    "    def read_data(self):\n",
    "        n, m = map(int, input().split())\n",
    "        adj_matrix = [list(map(int, input().split())) for i in range(n)]\n",
    "        return adj_matrix\n",
    "    def write_response(self, matching):\n",
    "        line = [str(-1 if x == -1 else x + 1) for x in matching]\n",
    "        print(' '.join(line))\n",
    "    def find_matching(self, adj_matrix):\n",
    "        # Source: 1\n",
    "        # Flights: 2\n",
    "        # Crews: 3\n",
    "        # Sink: 4\n",
    "        n = len(adj_matrix)\n",
    "        m = len(adj_matrix[0])\n",
    "        matching = [-1] * n\n",
    "        busy_right = [False] * m\n",
    "        def bfs():\n",
    "            visited_Node = set()\n",
    "            q = queue.Queue()\n",
    "            q.put((1, None))\n",
    "            visited_Node.add((1, None))\n",
    "            path = []\n",
    "            parent = dict()\n",
    "            while not q.empty():\n",
    "                current_node = q.get()\n",
    "                if 1 == current_node[0]: # Source\n",
    "                    for i in range(n):\n",
    "                        if -1 == matching[i]:\n",
    "                            visited_Node.add((2, i))\n",
    "                            parent[(2, i)] = (1, None)\n",
    "                            q.put((2, i))\n",
    "                elif 2 == current_node[0]: # Flights\n",
    "                    i = current_node[1]\n",
    "                    for j in range(m):\n",
    "                        if 1 == adj_matrix[i][j] and j != matching[i] and not (3, j) in visited_Node:\n",
    "                            visited_Node.add((3, j))\n",
    "                            parent[(3, j)] = current_node\n",
    "                            q.put((3, j))\n",
    "                elif 3 == current_node[0]:\n",
    "                    j = current_node[1]\n",
    "                    if not busy_right[j]:\n",
    "                        prevNode = current_node\n",
    "                        current_node = (4, j)\n",
    "                        while True:\n",
    "                            path.insert(0, (prevNode, current_node))\n",
    "                            if 1 == prevNode[0]:\n",
    "                                break\n",
    "                            current_node = prevNode\n",
    "                            prevNode = parent[current_node]\n",
    "                        for e in path:\n",
    "                            if 2 == e[0][0]:\n",
    "                                matching[e[0][1]] = e[1][1]\n",
    "                            elif 3 == e[0][0] and 4 == e[1][0]:\n",
    "                                busy_right[e[1][1]] = True\n",
    "                        #print(path)\n",
    "                        return True # There is a path\n",
    "                    else:\n",
    "                        for i in range(n):\n",
    "                            if j == matching[i] and not (2, i) in visited_Node:\n",
    "                                visited_Node.add((2, i))\n",
    "                                parent[(2, i)] = current_node\n",
    "                                q.put((2, i))\n",
    "            return False # There isn't a path\n",
    "\n",
    "        while bfs():\n",
    "            continue\n",
    "        return matching\n",
    "    def solve(self):\n",
    "        adj_matrix = self.read_data()\n",
    "        matching = self.find_matching(adj_matrix)\n",
    "        self.write_response(matching)\n",
    "\n",
    "if __name__ == '__main__':\n",
    "    max_matching = MaxMatching()\n",
    "    max_matching.solve()"
   ]
  },
  {
   "cell_type": "code",
   "execution_count": null,
   "metadata": {},
   "outputs": [],
   "source": [
    "5 7\n"
   ]
  },
  {
   "cell_type": "code",
   "execution_count": null,
   "metadata": {},
   "outputs": [],
   "source": []
  }
 ],
 "metadata": {
  "kernelspec": {
   "display_name": "Python 3",
   "language": "python",
   "name": "python3"
  },
  "language_info": {
   "codemirror_mode": {
    "name": "ipython",
    "version": 3
   },
   "file_extension": ".py",
   "mimetype": "text/x-python",
   "name": "python",
   "nbconvert_exporter": "python",
   "pygments_lexer": "ipython3",
   "version": "3.7.1"
  }
 },
 "nbformat": 4,
 "nbformat_minor": 2
}
